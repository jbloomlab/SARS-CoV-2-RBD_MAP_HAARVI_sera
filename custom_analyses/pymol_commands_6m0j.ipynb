{
 "cells": [
  {
   "cell_type": "markdown",
   "metadata": {},
   "source": [
    "# Make text files with PyMol commands\n",
    "Make text files with commands that can be run in PyMol to read in PDB files with reassigned b-factors according to antibody escape.\n",
    "\n",
    "This is specifically designed for the polyclonal sera and 6M0J, but could work for other selections with modifications."
   ]
  },
  {
   "cell_type": "code",
   "execution_count": 1,
   "metadata": {},
   "outputs": [],
   "source": [
    "import os\n",
    "from IPython.display import display, HTML\n",
    "import pandas as pd\n",
    "import yaml"
   ]
  },
  {
   "cell_type": "markdown",
   "metadata": {},
   "source": [
    "Read in configuration and PSE config:"
   ]
  },
  {
   "cell_type": "code",
   "execution_count": 2,
   "metadata": {},
   "outputs": [
    {
     "name": "stdout",
     "output_type": "stream",
     "text": [
      "Reading PSE specs from ../data/pse_config_6m0j.yaml\n"
     ]
    }
   ],
   "source": [
    "with open('../config.yaml') as f:\n",
    "    config = yaml.safe_load(f)\n",
    "    \n",
    "print(f\"Reading PSE specs from {config['pse_config_6m0j']}\")\n",
    "with open(config['pse_config_6m0j']) as f:\n",
    "    pse_config = yaml.safe_load(f)"
   ]
  },
  {
   "cell_type": "markdown",
   "metadata": {},
   "source": [
    "Make output directory"
   ]
  },
  {
   "cell_type": "code",
   "execution_count": 3,
   "metadata": {},
   "outputs": [],
   "source": [
    "os.makedirs(config['pse_dir'], exist_ok=True)"
   ]
  },
  {
   "cell_type": "markdown",
   "metadata": {},
   "source": [
    "Define some global parameters:"
   ]
  },
  {
   "cell_type": "code",
   "execution_count": 4,
   "metadata": {},
   "outputs": [],
   "source": [
    "# all maps should also be aligned to 6m0j\n",
    "ACE2_pdb = '6m0j'\n",
    "\n",
    "# view1\n",
    "view1 = \"\"\"\\nset_view (\\\n",
    "     0.042554848,   -0.306899577,    0.950776815,\\\n",
    "    -0.961419106,    0.246264562,    0.122523390,\\\n",
    "    -0.271744192,   -0.919321299,   -0.284589916,\\\n",
    "     0.000373175,   -0.000989944, -207.051269531,\\\n",
    "   -43.128311157,   27.435991287,   25.006759644,\\\n",
    "  -7602.168945312, 8016.250000000,  -20.000000000 )\"\"\"\n",
    "\n",
    "# which set of data to show, and how to color surfaces.\n",
    "pymol_specs = {\n",
    "        'metric' : ['max', 'total'],\n",
    "        'color_min' : 'white',\n",
    "        'color_max' : 'red',\n",
    "        'view' : view1,\n",
    "        }"
   ]
  },
  {
   "cell_type": "markdown",
   "metadata": {},
   "source": [
    "# Here are the generic commands we want to write:\n",
    "```\n",
    "reinitialize\n",
    "set seq_view, 0\n",
    "\n",
    "# set working directory\n",
    "cd Desktop/serum_structures/\n",
    "\n",
    "load data/6m0j_b-factor-mean-bind.pdb\n",
    "load data/6m0j_b-factor-mean-expr.pdb\n",
    "\n",
    "# fetch the open and closed trimer structures \n",
    "fetch 6vyb\n",
    "fetch 6wps\n",
    "\n",
    "# create ACE2, RBD_bind, RBD_expr\n",
    "hide all\n",
    "create ACE2, 6m0j_b-factor-mean-bind and chain A\n",
    "create RBD_bind, 6m0j_b-factor-mean-bind and chain E; remove RBD_bind and chain A\n",
    "create RBD_expr, 6m0j_b-factor-mean-expr and chain E; remove RBD_expr and chain A\n",
    "delete 6m0j_b-factor-mean-bind\n",
    "delete 6m0j_b-factor-mean-expr\n",
    "\n",
    "#align structures - first for closed trimer\n",
    "align 6wps and chain A, RBD_bind;\n",
    "show_as cartoon, 6wps;\n",
    "create closed-trimer_6wps, 6wps and chain A+B+E;\n",
    "show sticks, closed-trimer_6wps and resn NAG+FUC+BMA+MAN;\n",
    "remove 6wps; color violetpurple, closed-trimer_6wps;\n",
    "\n",
    "# align structures - now for open trimer\n",
    "set_name 6vyb, open-trimer_6vyb\n",
    "align open-trimer_6vyb and chain B, RBD_bind; show_as cartoon, open-trimer_6vyb; color violetpurple, open-trimer_6vyb\n",
    "remove open-trimer_6vyb and chain B\n",
    "\n",
    "# create selection with RBD colored according to RBD subdomain \n",
    "create RBD, RBD_bind\n",
    "select RBM, RBD and resi 437-508\n",
    "select ACE2_contacts, RBD and resi 417+446+449+453+455+456+475+486+487+489+493+496+498+500+501+502+505\n",
    "color 0xE69F00, RBD\n",
    "color 0x66CCEE, RBM\n",
    "color 0x004488, ACE2_contacts\n",
    "as cartoon, RBD\n",
    "as cartoon, ACE2\n",
    "color gray50, ACE2; set cartoon_transparency, 0.2, ACE2\n",
    "\n",
    "# show RBD_bind and RBD_expr as spectrum b\n",
    "show surface, RBD_bind; spectrum b, red white, RBD_bind, minimum=-2, maximum=0; show sticks, RBD_bind and resn NAG\n",
    "show surface, RBD_expr; spectrum b, red white, RBD_expr, minimum=-2, maximum=0; show sticks, RBD_expr and resn NAG\n",
    "\n",
    "# load total and max escape for each serum\n",
    "\n",
    "# show each serum as surface, colored by spectrum b\n",
    "\n",
    "# get the escape sites for all sera (early) and show alpha carbon as sphere\n",
    "\n",
    "# get the escape sites for all sera (all timepoints) and show alpha carbon as sphere\n",
    "\n",
    "```"
   ]
  },
  {
   "cell_type": "markdown",
   "metadata": {},
   "source": [
    "Write function to perform write the same generic commands to text file for every antibody:"
   ]
  },
  {
   "cell_type": "code",
   "execution_count": 5,
   "metadata": {},
   "outputs": [],
   "source": [
    "def initialize_commands():\n",
    "    text = \"\"\"\n",
    "#commands to load pdbs\n",
    "\n",
    "reinitialize\n",
    "set seq_view, 0\n",
    "set ray_shadows, 0\n",
    "set spec_reflect, 1\n",
    "set spec_power, 100000\n",
    "set sphere_scale, 1\n",
    "\n",
    "# set working directory\n",
    "cd Desktop/serum_structures/\n",
    "\n",
    "load data/6m0j_b-factor-mean-bind.pdb\n",
    "load data/6m0j_b-factor-mean-expr.pdb\n",
    "\n",
    "# fetch the open and closed trimer structures\n",
    "fetch 6vyb\n",
    "fetch 6wps\n",
    "\n",
    "# create ACE2, RBD_bind, RBD_expr\n",
    "hide all\n",
    "create ACE2, 6m0j_b-factor-mean-bind and chain A\n",
    "create RBD_bind, 6m0j_b-factor-mean-bind and chain E; remove RBD_bind and chain A\n",
    "create RBD_expr, 6m0j_b-factor-mean-expr and chain E; remove RBD_expr and chain A\n",
    "delete 6m0j_b-factor-mean-bind\n",
    "delete 6m0j_b-factor-mean-expr\n",
    "\n",
    "#align structures - first for closed trimer\n",
    "align 6wps and chain A, RBD_bind;\n",
    "show_as cartoon, 6wps;\n",
    "create closed-trimer_6wps, 6wps and chain A+B+E;\n",
    "show sticks, closed-trimer_6wps and resn NAG+FUC+BMA+MAN;\n",
    "remove 6wps; color violetpurple, closed-trimer_6wps;\n",
    "\n",
    "# align structures - now for open trimer\n",
    "set_name 6vyb, open-trimer_6vyb\n",
    "align open-trimer_6vyb and chain B, RBD_bind; show_as cartoon, open-trimer_6vyb; color violetpurple, open-trimer_6vyb\n",
    "remove open-trimer_6vyb and chain B\n",
    "\n",
    "# create selection with RBD colored according to RBD subdomain\n",
    "create RBD, RBD_bind\n",
    "select RBM, RBD and resi 437-508\n",
    "select ACE2_contacts, RBD and resi 417+446+449+453+455+456+475+486+487+489+493+496+498+500+501+502+505\n",
    "color 0xE69F00, RBD\n",
    "color 0x66CCEE, RBM\n",
    "color 0x004488, ACE2_contacts\n",
    "as cartoon, RBD\n",
    "as cartoon, ACE2\n",
    "color gray50, ACE2; set cartoon_transparency, 0.2, ACE2\n",
    "\n",
    "create ACE2_ct, ACE2_contacts\n",
    "as surface, ACE2_ct\n",
    "\n",
    "# show RBD_bind and RBD_expr as spectrum b\n",
    "show surface, RBD_bind; spectrum b, red white, RBD_bind, minimum=-2, maximum=0; show sticks, RBD_bind and resn NAG\n",
    "show surface, RBD_expr; spectrum b, red white, RBD_expr, minimum=-2, maximum=0; show sticks, RBD_expr and resn NAG\n",
    "\"\"\" \n",
    "    f.write(text)"
   ]
  },
  {
   "cell_type": "markdown",
   "metadata": {},
   "source": [
    "Write function to read in each PDB for each selection and max or total escape. \n",
    "\n",
    "I am going to write this so the function has to be run each time for `max` and `total`.\n",
    "\n",
    "Might be able to use formatting like this [example](https://stackoverflow.com/questions/16162383/how-to-easily-write-a-multi-line-file-with-variables-python-2-6/16162599)."
   ]
  },
  {
   "cell_type": "code",
   "execution_count": 6,
   "metadata": {},
   "outputs": [],
   "source": [
    "def load_escape(sln_list, metric, max_file):\n",
    "    max_df = pd.read_csv(max_file)\n",
    "    \n",
    "    f.write(f'\\n\\n# load escape PDBs for {metric}\\n')\n",
    "    for sln in sln_list.keys():\n",
    "        name = sln_list[sln]\n",
    "        sln_max = max_df.loc[max_df['condition'] == name, 'maximum'].iloc[0]\n",
    "        \n",
    "        f.write(f'load data/{sln}_6m0j_{metric}_escape.pdb\\n')\n",
    "        f.write(f'set_name {sln}_6m0j_{metric}_escape, {name}_{metric}\\n')\n",
    "        f.write(f'remove {name}_{metric} and chain A; show surface, {name}_{metric}; show sticks, {name}_{metric} and resn NAG; spectrum b, white red, {name}_{metric}, minimum=0, maximum={sln_max}\\n')"
   ]
  },
  {
   "cell_type": "markdown",
   "metadata": {},
   "source": [
    "Write function to get escape sites for a list of serum selections and an escape threshold (default or sensitive, currently). "
   ]
  },
  {
   "cell_type": "code",
   "execution_count": 7,
   "metadata": {},
   "outputs": [],
   "source": [
    "def escape_sites(selection_list, sites_name, escape_threshold, exclude_sites):\n",
    "    # sites_name is a string (like 'early_escape' that we will call the pymol object)\n",
    "    \n",
    "    escape_sites_file = os.path.join('..', config['strong_escape_sites']) \n",
    "    escape_sites = list(set(pd.read_csv(escape_sites_file)\n",
    "                    .query('condition in @selection_list & threshold == @escape_threshold & site not in @exclude_sites')\n",
    "                    ['site'].astype(str)\n",
    "                    .tolist()\n",
    "                   ))\n",
    "    escape_sites.sort()\n",
    "    \n",
    "    sites = '+'.join(escape_sites)\n",
    "    \n",
    "    f.write(f'\\n# create {sites_name} and show as spheres\\n')\n",
    "    f.write(f'\\nsele {sites_name}, RBD and resi {sites}\\n')\n",
    "    f.write(f'show spheres, {sites_name} and name ca\\n')"
   ]
  },
  {
   "cell_type": "markdown",
   "metadata": {},
   "source": [
    "Function to save PNGs for each selection, and rotated 180 degrees. Want something like this:\n",
    "```\n",
    "hide all \n",
    "show surface, 25_d18_total; show sticks, 25_d18_total and resn NAG\n",
    "png 25_d18_total_view1_surface.png, ray=1, 600, 600\n",
    "rotate y, 180\n",
    "png 25_d18_total_view1_surface_180.png, ray=1, 600, 600\n",
    "```"
   ]
  },
  {
   "cell_type": "code",
   "execution_count": 8,
   "metadata": {},
   "outputs": [],
   "source": [
    "def save_images(serum_list, metric):\n",
    "    for s in serum_list:\n",
    "        f.write('\\n\\nhide all')\n",
    "        f.write(f'\\nshow surface, {s}_{metric}; show sticks, {s}_{metric} and resn NAG')\n",
    "        f.write(f'\\npng {s}_{metric}_view1_surface.png, ray=1, 600, 600')\n",
    "        f.write('\\nrotate y, 180')\n",
    "        f.write(f'\\npng {s}_{metric}_view1_surface_180.png, ray=1, 600, 600')\n",
    "        f.write('\\nrotate y, 180')"
   ]
  },
  {
   "cell_type": "markdown",
   "metadata": {},
   "source": [
    "Function to save ACE2 contacts as ray trace"
   ]
  },
  {
   "cell_type": "code",
   "execution_count": 9,
   "metadata": {},
   "outputs": [],
   "source": [
    "def trace_ACE2():\n",
    "    text = \"\"\"\n",
    "\n",
    "hide all\n",
    "\n",
    "as surface, ACE2_ct\n",
    "set ray_trace_mode, 2\n",
    "set ray_trace_color, black\n",
    "set ray_opaque_background, 0\n",
    "\n",
    "png ACE2.png, ray=1, 600, 600\n",
    "\n",
    "rotate y, 180\n",
    "png ACE2_180.png, ray=1, 600, 600\n",
    "\n",
    "# put things back how they belong\n",
    "rotate y, 180\n",
    "set ray_trace_mode, 0\n",
    "    \"\"\"\n",
    "    f.write(text)"
   ]
  },
  {
   "cell_type": "markdown",
   "metadata": {},
   "source": [
    "Loop through all the PDBs in the config and write output file."
   ]
  },
  {
   "cell_type": "code",
   "execution_count": 10,
   "metadata": {},
   "outputs": [
    {
     "name": "stdout",
     "output_type": "stream",
     "text": [
      "Writing pymol commands to \n",
      "../results/pymol_commands/pymol_commands_serum_max.txt\n",
      "Writing pymol commands to \n",
      "../results/pymol_commands/pymol_commands_serum_total.txt\n"
     ]
    }
   ],
   "source": [
    "for metric in pymol_specs['metric']:\n",
    "\n",
    "    outFile = os.path.join(config['pse_dir'], f'pymol_commands_serum_{metric}.txt')\n",
    "    print(f'Writing pymol commands to \\n{outFile}')\n",
    "\n",
    "    f = open(outFile, \"w\")\n",
    "    f.write(f\"# PyMol commands for serum selections\")\n",
    "    initialize_commands()\n",
    "\n",
    "    load_escape(pse_config['all_sera'], metric, pse_config['ylim_file'])\n",
    "\n",
    "    escape_sites(pse_config['early_sera'], 'early_escape', pse_config['threshold'], pse_config['exclude_sites'])\n",
    "    escape_sites(pse_config['early_late_sera'], 'all_escape', pse_config['threshold'], pse_config['exclude_sites'])\n",
    "\n",
    "    f.write(f'\\n{view1}\\n')\n",
    "    f.write(f'\\nsave serum_escape_{metric}.pse\\n')\n",
    "    f.write(f'\\n# png view1.png, ray=1, 600, 600')\n",
    "    \n",
    "    save_images(list(pse_config['all_sera'].values()), metric)\n",
    "    \n",
    "    trace_ACE2()\n",
    "\n",
    "    f.close()"
   ]
  },
  {
   "cell_type": "code",
   "execution_count": null,
   "metadata": {},
   "outputs": [],
   "source": []
  }
 ],
 "metadata": {
  "language_info": {
   "name": "python"
  }
 },
 "nbformat": 4,
 "nbformat_minor": 4
}
