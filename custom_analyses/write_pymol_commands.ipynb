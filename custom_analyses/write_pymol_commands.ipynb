{
 "cells": [
  {
   "cell_type": "markdown",
   "metadata": {},
   "source": [
    "# Make text files with PyMol commands\n",
    "Make text files with commands that can be run in PyMol to read in PDB files with reassigned b-factors according to antibody escape.\n",
    "\n",
    "This is specifically designed for the Barnes et al. structures of S2P trimer with Fab, but I think I have set up the config such that it could work for RBD-Fab alone."
   ]
  },
  {
   "cell_type": "code",
   "execution_count": 1,
   "metadata": {},
   "outputs": [],
   "source": [
    "import os\n",
    "from IPython.display import display, HTML\n",
    "import pandas as pd\n",
    "import yaml"
   ]
  },
  {
   "cell_type": "markdown",
   "metadata": {},
   "source": [
    "Read in configuration and PSE config:"
   ]
  },
  {
   "cell_type": "code",
   "execution_count": 2,
   "metadata": {},
   "outputs": [
    {
     "name": "stdout",
     "output_type": "stream",
     "text": [
      "Reading PSE specs from ../data/pse_config.yaml\n"
     ]
    }
   ],
   "source": [
    "with open('../config.yaml') as f:\n",
    "    config = yaml.safe_load(f)\n",
    "    \n",
    "print(f\"Reading PSE specs from {config['pse_config']}\")\n",
    "with open(config['pse_config']) as f:\n",
    "    pse_config = yaml.safe_load(f)"
   ]
  },
  {
   "cell_type": "markdown",
   "metadata": {},
   "source": [
    "Make output directory"
   ]
  },
  {
   "cell_type": "code",
   "execution_count": 3,
   "metadata": {},
   "outputs": [],
   "source": [
    "os.makedirs(config['pse_dir'], exist_ok=True)"
   ]
  },
  {
   "cell_type": "markdown",
   "metadata": {},
   "source": [
    "Define some global parameters:"
   ]
  },
  {
   "cell_type": "code",
   "execution_count": 4,
   "metadata": {},
   "outputs": [],
   "source": [
    "outprefix = 'pymol_commands' # make a separate text file for each\n",
    "\n",
    "# all maps should also be aligned to 6m0j\n",
    "ACE2_pdb = '6m0j'\n",
    "\n",
    "# view1\n",
    "view1 = \"\"\"\\nset_view (\\\n",
    "     0.833226204,   -0.528404295,    0.162850752,\\\n",
    "    -0.477664202,   -0.539514899,    0.693361998,\\\n",
    "    -0.278514773,   -0.655512929,   -0.701937377,\\\n",
    "     0.000000000,   -0.000000000, -286.698059082,\\\n",
    "   -23.955575943,   16.451217651,    0.807323456,\\\n",
    "  -15130.423828125, 15703.833984375,  -20.000000000 )\"\"\"\n",
    "\n",
    "# which set of data to show, and how to color surfaces.\n",
    "pymol_specs = {\n",
    "        'metric' : 'max',\n",
    "        'color_min' : 'white',\n",
    "        'color_max' : 'red',\n",
    "        'view' : view1,\n",
    "        }"
   ]
  },
  {
   "cell_type": "markdown",
   "metadata": {},
   "source": [
    "Write function to perform write the same generic commands to text file for every antibody:"
   ]
  },
  {
   "cell_type": "code",
   "execution_count": 5,
   "metadata": {},
   "outputs": [],
   "source": [
    "def initialize_commands():\n",
    "    text = \"\"\"\n",
    "#commands to load pdbs\n",
    "\n",
    "reinitialize\n",
    "set seq_view, 0\n",
    "set ray_shadows, 0\n",
    "set spec_reflect, 1\n",
    "set spec_power, 100000\n",
    "set sphere_scale, 0.75\n",
    "\n",
    "load 6m0j_b-factor-mean-bind.pdb\n",
    "load 6m0j_b-factor-mean-expr.pdb\n",
    "\n",
    "# create ACE2, RBD_bind, RBD_expr\n",
    "# hide all\n",
    "create ACE2, 6m0j_b-factor-mean-bind and chain A\n",
    "create RBD_bind, 6m0j_b-factor-mean-bind and chain E; remove RBD_bind and chain A\n",
    "create RBD_expr, 6m0j_b-factor-mean-expr and chain E; remove RBD_expr and chain A\n",
    "delete 6m0j_b-factor-mean-bind\n",
    "delete 6m0j_b-factor-mean-expr\n",
    "\n",
    "# start showing stuff\n",
    "show cartoon, ACE2; color gray20, ACE2; set cartoon_transparency, 0.5, ACE2\n",
    "show cartoon, RBD_bind; spectrum b, red white, RBD_bind, minimum=-2, maximum=0; show sticks, RBD_bind and resn NAG\n",
    "show cartoon, RBD_expr; spectrum b, red white, RBD_expr, minimum=-2, maximum=0; show sticks, RBD_expr and resn NAG\n",
    "\n",
    "\"\"\" \n",
    "    f.write(text)"
   ]
  },
  {
   "cell_type": "markdown",
   "metadata": {},
   "source": [
    "Write function to align trimer-Fab structure to 6m0j and to create Fab, RBD, and spike chains\n",
    "\n",
    "Might be able to use formatting like this [example](https://stackoverflow.com/questions/16162383/how-to-easily-write-a-multi-line-file-with-variables-python-2-6/16162599)."
   ]
  },
  {
   "cell_type": "code",
   "execution_count": 6,
   "metadata": {},
   "outputs": [],
   "source": [
    "def load_trimer_fab(ab, sln, pdb, metric, RBD_chains, heavy_chains, light_chains, trimer):\n",
    "\n",
    "    f.write('# load Fab-trimer PDB and align structures\\n')\n",
    "    f.write(f'load data/{ab}_{sln}_{pdb}_{metric}_escape.pdb\\n')\n",
    "    f.write(f'set_name {ab}_{sln}_{pdb}_{metric}_escape, {pdb}\\n')\n",
    "    f.write(f'align {pdb} and (chain {RBD_chains[0]} and resi 333-526), RBD_bind\\n\\n')\n",
    "\n",
    "    f.write('# create Fab chains\\n')\n",
    "    f.write(f'show_as cartoon, {pdb}; color deepblue, {pdb};\\n')\n",
    "    \n",
    "    for hc, lc in zip(heavy_chains, light_chains):\n",
    "        f.write(f'create {hc}, {pdb} and chain {hc}; create {lc}, {pdb} and chain {lc}\\n')\n",
    "    \n",
    "    hc_string = ' or '.join(heavy_chains)\n",
    "    lc_string = ' or '.join(light_chains)\n",
    "    f.write(f'color deepblue, ({hc_string}); color marine, ({lc_string})\\n\\n')\n",
    "\n",
    "    f.write('# create RBD chains\\n')\n",
    "    for rbd in RBD_chains:\n",
    "        f.write(f'create RBD_{rbd}, {pdb} and chain {rbd} and resi 333-526; show cartoon, RBD_{rbd}; show sticks, RBD_{rbd} and resn NAG; spectrum b, white red, RBD_{rbd}, minimum=0\\n')\n",
    "    \n",
    "    if trimer:\n",
    "        spikes = ['spike_{0}'.format(rbd) for rbd in RBD_chains]\n",
    "        spike_string = ' or '.join(spikes)\n",
    "        f.write('\\n# create non-RBD spike chains\\n')\n",
    "        for rbd in RBD_chains:\n",
    "            f.write(f'create spike_{rbd}, {pdb} and chain {rbd} and resi 1-332+527-1253\\n')\n",
    "        f.write(f'color slate, ({spike_string})\\n\\n')"
   ]
  },
  {
   "cell_type": "markdown",
   "metadata": {},
   "source": [
    "Write function to show ACE2 contact sites as mesh"
   ]
  },
  {
   "cell_type": "code",
   "execution_count": 7,
   "metadata": {},
   "outputs": [],
   "source": [
    "def ace2_contact(RBD_chains):\n",
    "    rbds = ['RBD_{0}'.format(rbd) for rbd in RBD_chains]\n",
    "    rbd_string = ' or '.join(rbds)\n",
    "    \n",
    "    f.write('# show ACE2 contact sites as mesh\\n')\n",
    "    f.write(f'create ACE2_contacts, ({rbd_string}) and resi 417+446+449+453+455+456+475+486+487+489+493+496+498+500+501+502+505\\n')\n",
    "    f.write(f'show mesh, ACE2_contacts; color gray40, ACE2_contacts\\n')\n",
    "    f.write(f'sele ACE2_cont, ({rbd_string}) and resi 417+446+449+453+455+456+475+486+487+489+493+496+498+500+501+502+505\\n\\n')"
   ]
  },
  {
   "cell_type": "markdown",
   "metadata": {},
   "source": [
    "Write function to create antibody contact sites"
   ]
  },
  {
   "cell_type": "code",
   "execution_count": 8,
   "metadata": {},
   "outputs": [],
   "source": [
    "def fab_contacts(RBD_chains, rbd_fab, all_ct_sites):\n",
    "    \"\"\"\n",
    "    rbd_fab is a dictionary keyed by RBD chain (eg A, B, C)\n",
    "        values are a list of the contact sites for that chain\n",
    "    all_ct_sites is a list of sites that contact any RBD chain \n",
    "    \"\"\"\n",
    "    rbds = ['RBD_{0}'.format(rbd) for rbd in RBD_chains]\n",
    "    rbd_string = ' or '.join(rbds)\n",
    "    all_contacts = '+'.join(all_ct_sites)\n",
    "    \n",
    "    f.write('# create antibody contact sites and show as spheres\\n')\n",
    "    for rbd, sites in rbd_fab.items():\n",
    "        rbd_contacts = '+'.join(sites)\n",
    "        f.write(f'sele RBD_{rbd}_ct, RBD_{rbd} and resi {rbd_contacts}\\n')\n",
    "        f.write(f'show spheres, RBD_{rbd}_ct and name ca\\n')\n",
    "    f.write(f'sele all_ct, ({rbd_string}) and resi {all_contacts}\\n')\n",
    "    f.write(f'show spheres, all_ct and name ca\\n\\n')"
   ]
  },
  {
   "cell_type": "markdown",
   "metadata": {},
   "source": [
    "Read in contact sites"
   ]
  },
  {
   "cell_type": "code",
   "execution_count": 9,
   "metadata": {},
   "outputs": [
    {
     "data": {
      "text/html": [
       "<div>\n",
       "<style scoped>\n",
       "    .dataframe tbody tr th:only-of-type {\n",
       "        vertical-align: middle;\n",
       "    }\n",
       "\n",
       "    .dataframe tbody tr th {\n",
       "        vertical-align: top;\n",
       "    }\n",
       "\n",
       "    .dataframe thead th {\n",
       "        text-align: right;\n",
       "    }\n",
       "</style>\n",
       "<table border=\"1\" class=\"dataframe\">\n",
       "  <thead>\n",
       "    <tr style=\"text-align: right;\">\n",
       "      <th></th>\n",
       "      <th>name</th>\n",
       "      <th>pdb</th>\n",
       "      <th>chain</th>\n",
       "      <th>position</th>\n",
       "    </tr>\n",
       "  </thead>\n",
       "  <tbody>\n",
       "    <tr>\n",
       "      <th>0</th>\n",
       "      <td>ACE2</td>\n",
       "      <td>6M0J</td>\n",
       "      <td>E</td>\n",
       "      <td>417</td>\n",
       "    </tr>\n",
       "    <tr>\n",
       "      <th>1</th>\n",
       "      <td>ACE2</td>\n",
       "      <td>6M0J</td>\n",
       "      <td>E</td>\n",
       "      <td>446</td>\n",
       "    </tr>\n",
       "    <tr>\n",
       "      <th>2</th>\n",
       "      <td>ACE2</td>\n",
       "      <td>6M0J</td>\n",
       "      <td>E</td>\n",
       "      <td>449</td>\n",
       "    </tr>\n",
       "    <tr>\n",
       "      <th>3</th>\n",
       "      <td>ACE2</td>\n",
       "      <td>6M0J</td>\n",
       "      <td>E</td>\n",
       "      <td>453</td>\n",
       "    </tr>\n",
       "    <tr>\n",
       "      <th>4</th>\n",
       "      <td>ACE2</td>\n",
       "      <td>6M0J</td>\n",
       "      <td>E</td>\n",
       "      <td>455</td>\n",
       "    </tr>\n",
       "  </tbody>\n",
       "</table>\n",
       "</div>"
      ],
      "text/plain": [
       "   name   pdb chain position\n",
       "0  ACE2  6M0J     E      417\n",
       "1  ACE2  6M0J     E      446\n",
       "2  ACE2  6M0J     E      449\n",
       "3  ACE2  6M0J     E      453\n",
       "4  ACE2  6M0J     E      455"
      ]
     },
     "execution_count": 9,
     "metadata": {},
     "output_type": "execute_result"
    }
   ],
   "source": [
    "contacts = pd.read_csv(os.path.join('../', config['structural_contacts']))\n",
    "contacts['position'] = contacts['position'].astype(str)\n",
    "contacts.head()"
   ]
  },
  {
   "cell_type": "markdown",
   "metadata": {},
   "source": [
    "Loop through all the PDBs in the config and write output file."
   ]
  },
  {
   "cell_type": "code",
   "execution_count": 10,
   "metadata": {},
   "outputs": [
    {
     "name": "stdout",
     "output_type": "stream",
     "text": [
      "../results/pymol_commands/pymol_C105_6xcn.txt\n",
      "../results/pymol_commands/pymol_C105_6xcm.txt\n",
      "../results/pymol_commands/pymol_C144_7k90.txt\n",
      "../results/pymol_commands/pymol_C002_7k8s.txt\n",
      "../results/pymol_commands/pymol_C002_7k8t.txt\n",
      "../results/pymol_commands/pymol_C121_7k8x.txt\n",
      "../results/pymol_commands/pymol_C121_7k8y.txt\n",
      "../results/pymol_commands/pymol_C135_7k8z.txt\n",
      "../results/pymol_commands/pymol_C110_7k8v.txt\n"
     ]
    }
   ],
   "source": [
    "for name, specs in pse_config.items():\n",
    "    pdb = name\n",
    "    ab = specs[\"antibody\"]\n",
    "    sln = specs[\"selection\"]\n",
    "    RBD_chains = specs[\"RBD_chains\"]\n",
    "    heavy_chains = specs[\"heavy_chains\"]\n",
    "    light_chains = specs[\"light_chains\"]\n",
    "    trimer = specs[\"trimer\"]\n",
    "    \n",
    "    # rbd_fab is a dict, keyed by RBD chain; values are list of the contact sites\n",
    "    rbd_fab = ((contacts\n",
    "                .query('name==@ab & pdb==@pdb'))\n",
    "               [['chain', 'position']]\n",
    "               .reset_index(drop=True)\n",
    "               .groupby('chain')['position'].apply(list).to_dict()\n",
    "              )\n",
    "    \n",
    "    # create list of all contact sites for a given antibody\n",
    "    all_ct = []\n",
    "    for v in rbd_fab.values():\n",
    "        all_ct.extend(v)\n",
    "    all_ct_sites = sorted(list(set(all_ct))) \n",
    "    \n",
    "    metric = pymol_specs['metric']\n",
    "    \n",
    "    outFile = os.path.join(config['pse_dir'], f'pymol_{ab}_{name}.txt')\n",
    "    print(outFile)\n",
    "    \n",
    "    f = open(outFile, \"w\")\n",
    "    f.write(f\"# PyMol commands for {ab} {name}\")\n",
    "    initialize_commands()\n",
    "    load_trimer_fab(ab, sln, pdb, metric, RBD_chains, heavy_chains, light_chains, trimer)\n",
    "    ace2_contact(RBD_chains)\n",
    "    fab_contacts(RBD_chains, rbd_fab, all_ct_sites)\n",
    "    \n",
    "    f.write(\"\"\"\n",
    "#view1\n",
    "set_view (\\\n",
    "     0.833226204,   -0.528404295,    0.162850752,\\\n",
    "    -0.477664202,   -0.539514899,    0.693361998,\\\n",
    "    -0.278514773,   -0.655512929,   -0.701937377,\\\n",
    "     0.000000000,   -0.000000000, -286.698059082,\\\n",
    "   -23.955575943,   16.451217651,    0.807323456,\\\n",
    "  -15130.423828125, 15703.833984375,  -20.000000000 )\n",
    "  \n",
    "\"\"\")\n",
    "    f.write(f'save {ab}_{pdb}.pse\\n')\n",
    "    f.write(f'# png {ab}_{pdb}_view1.png, ray=1, 600, 600')\n",
    "    \n",
    "    f.close()"
   ]
  },
  {
   "cell_type": "code",
   "execution_count": null,
   "metadata": {},
   "outputs": [],
   "source": []
  }
 ],
 "metadata": {
  "language_info": {
   "name": "python"
  }
 },
 "nbformat": 4,
 "nbformat_minor": 4
}
